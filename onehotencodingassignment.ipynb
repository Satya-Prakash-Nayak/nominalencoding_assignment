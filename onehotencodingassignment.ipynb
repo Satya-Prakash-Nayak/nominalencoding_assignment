{
 "cells": [
  {
   "cell_type": "markdown",
   "id": "08381344-7c70-4db2-afc8-c8841e812b12",
   "metadata": {},
   "source": [
    "### Q1. What is data encoding? How is it useful in data science?\n",
    "''' ans:- Data encoding is the process of converting categorical features of the dataset into numerical features.There are many features in a dataset \n",
    "     which are categorical also they are important features so that we cannt ignore them. data encoding helps to convert these features to numerical features'''\n",
    "\n",
    "### Q2. What is nominal encoding? Provide an example of how you would use it in a real-world scenario.\n",
    "''' ans:- Nominal encoding is the process of converting categorical features into numerical features. The example of nominal encoding is one hot encoding.\n",
    "          In one hot encoding it creates a sparce matrix of zeros and ones defining the presence and absence of any value in the row.'''\n",
    "### Q3. In what situations is nominal encoding preferred over one-hot encoding? Provide a practical example.\n",
    "''' ans:- There are many disadvantages of one hot encoding, if we have thousands of categorical values present in the dataset then it will create thousand\n",
    "          rows for each value. It can cause overfitting and will decrease the model performance. So in this case one hot encoding is not the best option for encoding.'''\n",
    "### Q4. Suppose you have a dataset containing categorical data with 5 unique values. Which encoding technique would you use to transform this data into a format suitable for machine learning algorithms? Explain why you made this choice.\n",
    "''' If we have 5 categorical values then i will prefer one hot encoding technique. its a nominal encoding technique best for less number of categorical values.'''\n",
    "### Q5. In a machine learning project, you have a dataset with 1000 rows and 5 columns. Two of the columns are categorical, and the remaining three columns are numerical. If you were to use nominal encoding to transform the categorical data, how many new columns would be created? Show your calculations.\n",
    "''' if i have 1000 rows with 1000 different categorical values with 3 categorical features then in one hot encoding it will generate 3000 new columns.\n",
    "    but here number of categorical values are not mentioned. So we cann't say accurately. '''\n",
    "### Q6. You are working with a dataset containing information about different types of animals, including their species, habitat, and diet. Which encoding technique would you use to transform the categorical data into a format suitable for machine learning algorithms? Justify your answer.\n",
    "''' The animal dataset is a nominal dataset because it is the unranked categorical data. so i prefer one hot encoding technique.'''"
   ]
  },
  {
   "cell_type": "code",
   "execution_count": null,
   "id": "1870204b-565a-4624-b53c-64fb68717c5d",
   "metadata": {},
   "outputs": [],
   "source": []
  }
 ],
 "metadata": {
  "kernelspec": {
   "display_name": "Python 3 (ipykernel)",
   "language": "python",
   "name": "python3"
  },
  "language_info": {
   "codemirror_mode": {
    "name": "ipython",
    "version": 3
   },
   "file_extension": ".py",
   "mimetype": "text/x-python",
   "name": "python",
   "nbconvert_exporter": "python",
   "pygments_lexer": "ipython3",
   "version": "3.11.7"
  }
 },
 "nbformat": 4,
 "nbformat_minor": 5
}
